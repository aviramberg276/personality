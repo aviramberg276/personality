{
  "nbformat": 4,
  "nbformat_minor": 0,
  "metadata": {
    "colab": {
      "name": "first_object_detection.ipynb",
      "provenance": [],
      "collapsed_sections": [],
      "toc_visible": true,
      "mount_file_id": "1D51Zhl8J8f84BHEcpLaq_5rrIgXYJDhy",
      "authorship_tag": "ABX9TyOfcPJ9oV2AjyN0aRz1fH32",
      "include_colab_link": true
    },
    "kernelspec": {
      "name": "python3",
      "display_name": "Python 3"
    }
  },
  "cells": [
    {
      "cell_type": "markdown",
      "metadata": {
        "id": "view-in-github",
        "colab_type": "text"
      },
      "source": [
        "<a href=\"https://colab.research.google.com/github/aviramberg276/personality/blob/develop/use_classifier.ipynb\" target=\"_parent\"><img src=\"https://colab.research.google.com/assets/colab-badge.svg\" alt=\"Open In Colab\"/></a>"
      ]
    },
    {
      "cell_type": "code",
      "metadata": {
        "id": "-_RCO0VyS9al",
        "colab_type": "code",
        "outputId": "497435f7-c7b9-4ee0-af3f-b8c6e6f7faa0",
        "colab": {
          "base_uri": "https://localhost:8080/",
          "height": 71
        }
      },
      "source": [
        "import pandas as pd\n",
        "import numpy as np\n",
        "# import hypertools as hyp\n",
        "import seaborn as sb\n",
        "import matplotlib.pyplot as plt\n",
        "import tensorflow as tf\n",
        "\n",
        "sb.set(style=\"darkgrid\")\n",
        "gpus = tf.config.experimental.list_physical_devices('GPU')\n",
        "for gpu in gpus: \n",
        "    tf.config.experimental.set_memory_growth(gpu, True)"
      ],
      "execution_count": 0,
      "outputs": [
        {
          "output_type": "stream",
          "text": [
            "/usr/local/lib/python3.6/dist-packages/statsmodels/tools/_testing.py:19: FutureWarning: pandas.util.testing is deprecated. Use the functions in the public API at pandas.testing instead.\n",
            "  import pandas.util.testing as tm\n"
          ],
          "name": "stderr"
        }
      ]
    },
    {
      "cell_type": "code",
      "metadata": {
        "id": "WDFFInpVTC0Y",
        "colab_type": "code",
        "colab": {}
      },
      "source": [
        "database = pd.read_csv(\"/content/drive/My Drive/Colab Notebooks/data/personality/Aviram_dataset_wide_A.csv\", index_col=[0])"
      ],
      "execution_count": 0,
      "outputs": []
    },
    {
      "cell_type": "code",
      "metadata": {
        "id": "_Mtd9dO6BMuY",
        "colab_type": "code",
        "colab": {}
      },
      "source": [
        "classes = database[database.columns[1:5]]\n",
        "data = database[database.columns[5:]]"
      ],
      "execution_count": 0,
      "outputs": []
    },
    {
      "cell_type": "code",
      "metadata": {
        "id": "kbR1OK9DBhwf",
        "colab_type": "code",
        "colab": {}
      },
      "source": [
        "import keras.backend as K\n",
        "def custom_loss(layer):\n",
        "\n",
        "    # Create a loss function that adds the MSE loss to the mean of all squared activations of a specific layer\n",
        "    def loss(y_true,y_pred):\n",
        "        return K.mean(K.mean(y_true, axis=0), axis=-1)\n",
        "    return loss\n",
        "\n",
        "val = 0\n",
        "def loss3(y_true,y_pred):\n",
        "    global val\n",
        "    val= K.sum(K.sqrt(y_true -y_pred))\n",
        "    # print(K.sum((y_true -y_pred)**2))\n",
        "    return K.sum((y_true -y_pred)**2)\n",
        "\n",
        "def loss2(y_true,y_pred, num):\n",
        "#         return K.mean(K.square(y_pred - y_true) + K.square(layer), axis=-1)\n",
        "    return (np.abs((y_true - y_test)) < num).sum() / (y_test.shape[0] * y_test.shape[1]) * 100\n",
        "\n",
        "def mapping_to_target_range( x, target_min=1, target_max=7) :\n",
        "    x02 = K.tanh(x) + 1 # x in range(0,2)\n",
        "    scale = ( target_max-target_min )/2.\n",
        "    return  x02 * scale + target_min"
      ],
      "execution_count": 0,
      "outputs": []
    },
    {
      "cell_type": "code",
      "metadata": {
        "id": "VrsAoOmkBSWv",
        "colab_type": "code",
        "colab": {}
      },
      "source": [
        "import pandas\n",
        "from keras.models import Sequential\n",
        "from keras.layers import Dense, Dropout\n",
        "from keras.wrappers.scikit_learn import KerasRegressor\n",
        "from sklearn.model_selection import cross_val_score\n",
        "from sklearn.model_selection import KFold\n",
        "from sklearn.preprocessing import StandardScaler\n",
        "from sklearn.pipeline import Pipeline\n",
        "from keras import optimizers\n",
        "seed =7\n",
        "def baseline_model():\n",
        "    # create model\n",
        "    model = Sequential()\n",
        "    model.add(Dense(1500, input_dim=2910, kernel_initializer='normal', activation='relu'))\n",
        "    model.add(Dropout(0.15, seed=np.random.seed(seed)))\n",
        "    model.add(Dense(500, input_dim=1000, kernel_initializer='normal'))\n",
        "    model.add(Dense(200, input_dim=500, kernel_initializer='normal', activation='relu'))\n",
        "    model.add(Dropout(0.15, seed=np.random.seed(seed)))\n",
        "    model.add(Dense(100, input_dim=160, kernel_initializer='normal'))\n",
        "    model.add(Dense(40, input_dim=100, kernel_initializer='normal', activation='relu'))\n",
        "    model.add(Dropout(0.15, seed=np.random.seed(seed)))\n",
        "    model.add(Dense(4, kernel_initializer='normal', activation=mapping_to_target_range))\n",
        "    # Compile model\n",
        "    # optimizer = optimizers.Adam(lr=0.0001)\n",
        "    optimizer = optimizers.Adam(lr=0.0001)\n",
        "    model.compile(loss=loss3, optimizer=optimizer, metrics=['accuracy'])\n",
        "    return model"
      ],
      "execution_count": 0,
      "outputs": []
    },
    {
      "cell_type": "code",
      "metadata": {
        "id": "eiR8zzy9BV4_",
        "colab_type": "code",
        "colab": {}
      },
      "source": [
        "model = baseline_model()"
      ],
      "execution_count": 0,
      "outputs": []
    },
    {
      "cell_type": "code",
      "metadata": {
        "id": "JcdP2tY3BbEp",
        "colab_type": "code",
        "colab": {}
      },
      "source": [
        "model.load_weights(\"/content/drive/My Drive/Colab Notebooks/model/personality/ep5481-loss4.166-accuracy0.902.h5\")"
      ],
      "execution_count": 0,
      "outputs": []
    },
    {
      "cell_type": "code",
      "metadata": {
        "id": "Cr7i5EdoCBJM",
        "colab_type": "code",
        "colab": {}
      },
      "source": [
        "from sklearn.model_selection import GroupKFold\n",
        "group_kfold = GroupKFold(n_splits=15)\n",
        "group_kfold.get_n_splits(data, classes)\n",
        "gkf = list(group_kfold.split(data, classes, database[database.columns[0]]))"
      ],
      "execution_count": 0,
      "outputs": []
    },
    {
      "cell_type": "code",
      "metadata": {
        "id": "lintdB_HCX3K",
        "colab_type": "code",
        "colab": {}
      },
      "source": [
        "from sklearn.preprocessing import StandardScaler\n",
        "scalar = StandardScaler()\n",
        "train_index, test_index = gkf[0]\n",
        "X_train, X_test = scalar.fit_transform(data.values[train_index]), scalar.fit_transform(data.values[test_index])\n",
        "y_train, y_test = classes.values[train_index], classes.values[test_index]"
      ],
      "execution_count": 0,
      "outputs": []
    },
    {
      "cell_type": "code",
      "metadata": {
        "id": "vCOr7SLnCz4T",
        "colab_type": "code",
        "outputId": "73545e78-9e3f-438f-feec-88908c677c87",
        "colab": {
          "base_uri": "https://localhost:8080/",
          "height": 51
        }
      },
      "source": [
        "model.predict(X_test)[1], y_test[1]"
      ],
      "execution_count": 0,
      "outputs": [
        {
          "output_type": "execute_result",
          "data": {
            "text/plain": [
              "(array([4.2052603, 4.29218  , 4.2697806, 3.979812 ], dtype=float32),\n",
              " array([4.16666667, 4.25      , 4.25      , 4.        ]))"
            ]
          },
          "metadata": {
            "tags": []
          },
          "execution_count": 27
        }
      ]
    },
    {
      "cell_type": "code",
      "metadata": {
        "id": "n4sEtUJjDBx-",
        "colab_type": "code",
        "outputId": "ed5ae16b-03c6-4bb5-89d9-fd22bb16cb81",
        "colab": {
          "base_uri": "https://localhost:8080/",
          "height": 51
        }
      },
      "source": [
        "model.predict(X_test)[10], y_test[10]"
      ],
      "execution_count": 0,
      "outputs": [
        {
          "output_type": "execute_result",
          "data": {
            "text/plain": [
              "(array([4.1500783, 4.4199066, 5.010091 , 2.8339734], dtype=float32),\n",
              " array([4.08333333, 4.5       , 5.        , 2.75      ]))"
            ]
          },
          "metadata": {
            "tags": []
          },
          "execution_count": 28
        }
      ]
    },
    {
      "cell_type": "code",
      "metadata": {
        "id": "ST1kBJq0DWsz",
        "colab_type": "code",
        "outputId": "811c6e44-74be-4d40-91cc-bb3ec7e6b3a8",
        "colab": {
          "base_uri": "https://localhost:8080/",
          "height": 51
        }
      },
      "source": [
        "model.predict(X_test)[9], y_test[9]"
      ],
      "execution_count": 0,
      "outputs": [
        {
          "output_type": "execute_result",
          "data": {
            "text/plain": [
              "(array([6.136693 , 6.2651606, 6.062276 , 6.2053432], dtype=float32),\n",
              " array([6.16666667, 6.25      , 6.        , 6.25      ]))"
            ]
          },
          "metadata": {
            "tags": []
          },
          "execution_count": 25
        }
      ]
    },
    {
      "cell_type": "code",
      "metadata": {
        "id": "QNH4kritDdv1",
        "colab_type": "code",
        "outputId": "6a8e6aa9-0c9c-42df-8988-96bf8e07fd6b",
        "colab": {
          "base_uri": "https://localhost:8080/",
          "height": 51
        }
      },
      "source": [
        "model.predict(X_test)[14], y_test[14]"
      ],
      "execution_count": 0,
      "outputs": [
        {
          "output_type": "execute_result",
          "data": {
            "text/plain": [
              "(array([4.592772 , 4.9981585, 4.974079 , 3.7710307], dtype=float32),\n",
              " array([4.58333333, 5.        , 5.        , 3.75      ]))"
            ]
          },
          "metadata": {
            "tags": []
          },
          "execution_count": 26
        }
      ]
    },
    {
      "cell_type": "code",
      "metadata": {
        "id": "e0X_OVBtDs0B",
        "colab_type": "code",
        "colab": {}
      },
      "source": [
        ""
      ],
      "execution_count": 0,
      "outputs": []
    }
  ]
}